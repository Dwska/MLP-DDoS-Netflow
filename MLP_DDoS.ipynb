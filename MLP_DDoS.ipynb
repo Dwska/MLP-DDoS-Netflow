{
 "cells": [
  {
   "cell_type": "markdown",
   "id": "aaa26c03-0787-4912-8504-b45ab28bf7ea",
   "metadata": {
    "editable": true,
    "jp-MarkdownHeadingCollapsed": true,
    "slideshow": {
     "slide_type": ""
    },
    "tags": []
   },
   "source": [
    "# Config"
   ]
  },
  {
   "cell_type": "markdown",
   "id": "684c5daa-58e3-4428-8350-6f2b20f88ecb",
   "metadata": {},
   "source": [
    "**Import Library**\n",
    "1. torch and torch.nn: For defining and training the neural network.\n",
    "2. torch.optim: For optimization algorithms like Adam.\n",
    "3. torch.utils.data: For handling datasets and DataLoaders.\n",
    "4. pandas and numpy: For data manipulation.\n",
    "5. sklearn: For preprocessing and splitting the dataset."
   ]
  },
  {
   "cell_type": "code",
   "execution_count": 4,
   "id": "4d082481-a713-48ef-a428-d40241f3b44b",
   "metadata": {},
   "outputs": [],
   "source": [
    "import torch\n",
    "import torch.nn as nn\n",
    "import torch.optim as optim\n",
    "from torch.utils.data import DataLoader, TensorDataset\n",
    "import pandas as pd\n",
    "from sklearn.model_selection import train_test_split\n",
    "import numpy as np\n",
    "import matplotlib.pyplot as plt"
   ]
  },
  {
   "cell_type": "code",
   "execution_count": 5,
   "id": "6416fe52-9484-4fe2-9084-c265db97c721",
   "metadata": {
    "editable": true,
    "slideshow": {
     "slide_type": ""
    },
    "tags": []
   },
   "outputs": [
    {
     "name": "stdout",
     "output_type": "stream",
     "text": [
      "GPU is available\n",
      "Current device: 0\n",
      "Device name: NVIDIA GeForce RTX 3060 Laptop GPU\n"
     ]
    }
   ],
   "source": [
    "if torch.cuda.is_available():\n",
    "    print(\"GPU is available\")\n",
    "    print(\"Current device:\", torch.cuda.current_device())\n",
    "    print(\"Device name:\", torch.cuda.get_device_name(torch.cuda.current_device()))\n",
    "else:\n",
    "    print(\"GPU is not available, using CPU\")"
   ]
  },
  {
   "cell_type": "code",
   "execution_count": 6,
   "id": "dc67f162-f809-4fdb-895a-1c56b56280d2",
   "metadata": {},
   "outputs": [
    {
     "name": "stdout",
     "output_type": "stream",
     "text": [
      "cuda\n"
     ]
    }
   ],
   "source": [
    "# Device configuration\n",
    "device = torch.device('cuda' if torch.cuda.is_available() else 'cpu')\n",
    "print(device)"
   ]
  },
  {
   "cell_type": "markdown",
   "id": "fb634019-0914-4a66-93f8-28997dcc1480",
   "metadata": {},
   "source": [
    "# Feature Extraction"
   ]
  },
  {
   "cell_type": "code",
   "execution_count": 8,
   "id": "8e87791e-d2b9-4cd4-bd1b-fd403583c76f",
   "metadata": {},
   "outputs": [],
   "source": [
    "# NF-UNSW-NB15-v2 dataset\n",
    "data = pd.read_csv('./Dataset_DL/NF-UNSW-NB15-v2.csv')"
   ]
  },
  {
   "cell_type": "code",
   "execution_count": 9,
   "id": "bc53cba5-a8f7-49c5-b309-992d9bf53c74",
   "metadata": {},
   "outputs": [
    {
     "data": {
      "text/plain": [
       "2390275"
      ]
     },
     "execution_count": 9,
     "metadata": {},
     "output_type": "execute_result"
    }
   ],
   "source": [
    "len(data)"
   ]
  },
  {
   "cell_type": "code",
   "execution_count": 10,
   "id": "36a6bc91-2f4a-4fb9-9af7-808b0ec8c14f",
   "metadata": {},
   "outputs": [
    {
     "data": {
      "text/plain": [
       "2301016"
      ]
     },
     "execution_count": 10,
     "metadata": {},
     "output_type": "execute_result"
    }
   ],
   "source": [
    "# keep only rows that contain \"Benign\" and \"DoS\" in the column \"Attack\"\n",
    "values_to_keep = ['Benign', 'DoS']\n",
    "\n",
    "# Filter the DataFrame\n",
    "filtered_data_1 = data[data['Attack'].isin(values_to_keep)]\n",
    "\n",
    "len(filtered_data_1)"
   ]
  },
  {
   "cell_type": "code",
   "execution_count": 11,
   "id": "f7cf6fc3-067c-422d-87fd-a84eaa1029b5",
   "metadata": {},
   "outputs": [],
   "source": [
    "# Keep only 12 features and 1 label from the dataset \n",
    "columns_to_keep = ['IPV4_SRC_ADDR', 'IPV4_DST_ADDR', 'L4_SRC_PORT','L4_DST_PORT','PROTOCOL',\n",
    "                   'IN_BYTES','OUT_BYTES', 'IN_PKTS','OUT_PKTS', 'FLOW_DURATION_MILLISECONDS', 'SRC_TO_DST_AVG_THROUGHPUT','DST_TO_SRC_AVG_THROUGHPUT',\n",
    "                   'Label']\n",
    "\n",
    "# Create a new DataFrame with only the specified columns\n",
    "filtered_data_2 = filtered_data_1[columns_to_keep]"
   ]
  },
  {
   "cell_type": "code",
   "execution_count": 12,
   "id": "51658910-d9bf-47c0-8316-25a1816fcaf4",
   "metadata": {},
   "outputs": [
    {
     "name": "stdout",
     "output_type": "stream",
     "text": [
      "<class 'pandas.core.frame.DataFrame'>\n",
      "Index: 2301016 entries, 0 to 2390274\n",
      "Data columns (total 13 columns):\n",
      " #   Column                      Dtype \n",
      "---  ------                      ----- \n",
      " 0   IPV4_SRC_ADDR               object\n",
      " 1   IPV4_DST_ADDR               object\n",
      " 2   L4_SRC_PORT                 int64 \n",
      " 3   L4_DST_PORT                 int64 \n",
      " 4   PROTOCOL                    int64 \n",
      " 5   IN_BYTES                    int64 \n",
      " 6   OUT_BYTES                   int64 \n",
      " 7   IN_PKTS                     int64 \n",
      " 8   OUT_PKTS                    int64 \n",
      " 9   FLOW_DURATION_MILLISECONDS  int64 \n",
      " 10  SRC_TO_DST_AVG_THROUGHPUT   int64 \n",
      " 11  DST_TO_SRC_AVG_THROUGHPUT   int64 \n",
      " 12  Label                       int64 \n",
      "dtypes: int64(11), object(2)\n",
      "memory usage: 245.8+ MB\n"
     ]
    }
   ],
   "source": [
    "filtered_data_2.info()"
   ]
  },
  {
   "cell_type": "code",
   "execution_count": 13,
   "id": "d2e2f856-95f9-4f5d-be3b-89c1d3c6fd25",
   "metadata": {},
   "outputs": [
    {
     "name": "stdout",
     "output_type": "stream",
     "text": [
      "IPV4_SRC_ADDR                 0\n",
      "IPV4_DST_ADDR                 0\n",
      "L4_SRC_PORT                   0\n",
      "L4_DST_PORT                   0\n",
      "PROTOCOL                      0\n",
      "IN_BYTES                      0\n",
      "OUT_BYTES                     0\n",
      "IN_PKTS                       0\n",
      "OUT_PKTS                      0\n",
      "FLOW_DURATION_MILLISECONDS    0\n",
      "SRC_TO_DST_AVG_THROUGHPUT     0\n",
      "DST_TO_SRC_AVG_THROUGHPUT     0\n",
      "Label                         0\n",
      "dtype: int64\n"
     ]
    }
   ],
   "source": [
    "# Checking missing values\n",
    "missing_count = filtered_data_2.isnull().sum()\n",
    "print(missing_count)"
   ]
  },
  {
   "cell_type": "code",
   "execution_count": 14,
   "id": "43744192-41cb-43d5-b165-fa4bba226349",
   "metadata": {},
   "outputs": [
    {
     "name": "stderr",
     "output_type": "stream",
     "text": [
      "C:\\Users\\LENOVO\\AppData\\Local\\Temp\\ipykernel_20616\\837102965.py:5: SettingWithCopyWarning: \n",
      "A value is trying to be set on a copy of a slice from a DataFrame.\n",
      "Try using .loc[row_indexer,col_indexer] = value instead\n",
      "\n",
      "See the caveats in the documentation: https://pandas.pydata.org/pandas-docs/stable/user_guide/indexing.html#returning-a-view-versus-a-copy\n",
      "  filtered_data_2.loc[:, 'AVE_PKTS_LTH'] = (filtered_data_2['IN_BYTES'] + filtered_data_2['OUT_BYTES']) / (filtered_data_2['IN_PKTS'] + filtered_data_2['OUT_PKTS'])\n"
     ]
    }
   ],
   "source": [
    "# Create new features AVE_PKTS_LTH\n",
    "# Use .loc to avoid SettingWithCopyWarning\n",
    "# filtered_data_2.loc[:, 'packet_per_s'] = (filtered_data_2['IN_PKTS'] + filtered_data_2['OUT_PKTS']) / (filtered_data_2['FLOW_DURATION_MILLISECONDS'] / 1000)\n",
    "\n",
    "filtered_data_2.loc[:, 'AVE_PKTS_LTH'] = (filtered_data_2['IN_BYTES'] + filtered_data_2['OUT_BYTES']) / (filtered_data_2['IN_PKTS'] + filtered_data_2['OUT_PKTS'])\n",
    "filtered_data_2.loc[:, 'AVE_PKTS_LTH'] = filtered_data_2['AVE_PKTS_LTH'].round(2)\n"
   ]
  },
  {
   "cell_type": "code",
   "execution_count": 15,
   "id": "d0461e23-15ec-48e8-9063-be3515baf253",
   "metadata": {},
   "outputs": [],
   "source": [
    "# Create a Copy of the DataFrame to avoid SettingWithCopyWarning\n",
    "filtered_data_2_copy = filtered_data_2.copy()"
   ]
  },
  {
   "cell_type": "code",
   "execution_count": 16,
   "id": "8a652c98-9995-462f-b02f-72bb0961fd28",
   "metadata": {},
   "outputs": [],
   "source": [
    "filtered_data_2_copy[['SRC_1', 'SRC_2', 'SRC_3', 'SRC_4']] = filtered_data_2_copy['IPV4_SRC_ADDR'].str.split('.', expand=True)"
   ]
  },
  {
   "cell_type": "code",
   "execution_count": 17,
   "id": "0069b7b3-c05c-4c90-83e8-73e28ed29397",
   "metadata": {},
   "outputs": [],
   "source": [
    "# Separate each ip address into 4 features\n",
    "filtered_data_2_copy[['SRC_1', 'SRC_2', 'SRC_3', 'SRC_4']] = filtered_data_2_copy['IPV4_SRC_ADDR'].str.split('.', expand=True)\n",
    "filtered_data_2_copy[['DST_1', 'DST_2', 'DST_3', 'DST_4']] = filtered_data_2_copy['IPV4_DST_ADDR'].str.split('.', expand=True)\n",
    "\n",
    "# Convert the octets to integers \n",
    "filtered_data_2_copy[['SRC_1', 'SRC_2', 'SRC_3', 'SRC_4']] = filtered_data_2_copy[['SRC_1', 'SRC_2', 'SRC_3', 'SRC_4']].astype(int)\n",
    "filtered_data_2_copy[['DST_1', 'DST_2', 'DST_3', 'DST_4']] = filtered_data_2_copy[['DST_1', 'DST_2', 'DST_3', 'DST_4']].astype(int)"
   ]
  },
  {
   "cell_type": "code",
   "execution_count": 18,
   "id": "e1ec8d30-3589-41da-9244-f2090bd6b424",
   "metadata": {},
   "outputs": [
    {
     "data": {
      "text/html": [
       "<div>\n",
       "<style scoped>\n",
       "    .dataframe tbody tr th:only-of-type {\n",
       "        vertical-align: middle;\n",
       "    }\n",
       "\n",
       "    .dataframe tbody tr th {\n",
       "        vertical-align: top;\n",
       "    }\n",
       "\n",
       "    .dataframe thead th {\n",
       "        text-align: right;\n",
       "    }\n",
       "</style>\n",
       "<table border=\"1\" class=\"dataframe\">\n",
       "  <thead>\n",
       "    <tr style=\"text-align: right;\">\n",
       "      <th></th>\n",
       "      <th>L4_SRC_PORT</th>\n",
       "      <th>L4_DST_PORT</th>\n",
       "      <th>PROTOCOL</th>\n",
       "      <th>IN_BYTES</th>\n",
       "      <th>OUT_BYTES</th>\n",
       "      <th>IN_PKTS</th>\n",
       "      <th>OUT_PKTS</th>\n",
       "      <th>FLOW_DURATION_MILLISECONDS</th>\n",
       "      <th>SRC_TO_DST_AVG_THROUGHPUT</th>\n",
       "      <th>DST_TO_SRC_AVG_THROUGHPUT</th>\n",
       "      <th>Label</th>\n",
       "      <th>AVE_PKTS_LTH</th>\n",
       "      <th>SRC_1</th>\n",
       "      <th>SRC_2</th>\n",
       "      <th>SRC_3</th>\n",
       "      <th>SRC_4</th>\n",
       "      <th>DST_1</th>\n",
       "      <th>DST_2</th>\n",
       "      <th>DST_3</th>\n",
       "      <th>DST_4</th>\n",
       "    </tr>\n",
       "  </thead>\n",
       "  <tbody>\n",
       "    <tr>\n",
       "      <th>0</th>\n",
       "      <td>1305</td>\n",
       "      <td>21</td>\n",
       "      <td>6</td>\n",
       "      <td>9</td>\n",
       "      <td>193</td>\n",
       "      <td>1</td>\n",
       "      <td>3</td>\n",
       "      <td>0</td>\n",
       "      <td>3648000</td>\n",
       "      <td>3480000</td>\n",
       "      <td>0</td>\n",
       "      <td>50.50</td>\n",
       "      <td>59</td>\n",
       "      <td>166</td>\n",
       "      <td>0</td>\n",
       "      <td>5</td>\n",
       "      <td>149</td>\n",
       "      <td>171</td>\n",
       "      <td>126</td>\n",
       "      <td>8</td>\n",
       "    </tr>\n",
       "    <tr>\n",
       "      <th>1</th>\n",
       "      <td>1305</td>\n",
       "      <td>21</td>\n",
       "      <td>6</td>\n",
       "      <td>261</td>\n",
       "      <td>469</td>\n",
       "      <td>5</td>\n",
       "      <td>7</td>\n",
       "      <td>0</td>\n",
       "      <td>4656000</td>\n",
       "      <td>4584000</td>\n",
       "      <td>0</td>\n",
       "      <td>60.83</td>\n",
       "      <td>59</td>\n",
       "      <td>166</td>\n",
       "      <td>0</td>\n",
       "      <td>5</td>\n",
       "      <td>149</td>\n",
       "      <td>171</td>\n",
       "      <td>126</td>\n",
       "      <td>8</td>\n",
       "    </tr>\n",
       "    <tr>\n",
       "      <th>2</th>\n",
       "      <td>1305</td>\n",
       "      <td>21</td>\n",
       "      <td>6</td>\n",
       "      <td>481</td>\n",
       "      <td>750</td>\n",
       "      <td>9</td>\n",
       "      <td>11</td>\n",
       "      <td>0</td>\n",
       "      <td>5576000</td>\n",
       "      <td>5696000</td>\n",
       "      <td>0</td>\n",
       "      <td>61.55</td>\n",
       "      <td>59</td>\n",
       "      <td>166</td>\n",
       "      <td>0</td>\n",
       "      <td>5</td>\n",
       "      <td>149</td>\n",
       "      <td>171</td>\n",
       "      <td>126</td>\n",
       "      <td>8</td>\n",
       "    </tr>\n",
       "    <tr>\n",
       "      <th>3</th>\n",
       "      <td>1305</td>\n",
       "      <td>21</td>\n",
       "      <td>6</td>\n",
       "      <td>701</td>\n",
       "      <td>1054</td>\n",
       "      <td>13</td>\n",
       "      <td>15</td>\n",
       "      <td>0</td>\n",
       "      <td>6480000</td>\n",
       "      <td>6864000</td>\n",
       "      <td>0</td>\n",
       "      <td>62.68</td>\n",
       "      <td>59</td>\n",
       "      <td>166</td>\n",
       "      <td>0</td>\n",
       "      <td>5</td>\n",
       "      <td>149</td>\n",
       "      <td>171</td>\n",
       "      <td>126</td>\n",
       "      <td>8</td>\n",
       "    </tr>\n",
       "    <tr>\n",
       "      <th>4</th>\n",
       "      <td>1305</td>\n",
       "      <td>21</td>\n",
       "      <td>6</td>\n",
       "      <td>1031</td>\n",
       "      <td>1474</td>\n",
       "      <td>19</td>\n",
       "      <td>21</td>\n",
       "      <td>0</td>\n",
       "      <td>7544000</td>\n",
       "      <td>8240000</td>\n",
       "      <td>0</td>\n",
       "      <td>62.62</td>\n",
       "      <td>59</td>\n",
       "      <td>166</td>\n",
       "      <td>0</td>\n",
       "      <td>5</td>\n",
       "      <td>149</td>\n",
       "      <td>171</td>\n",
       "      <td>126</td>\n",
       "      <td>8</td>\n",
       "    </tr>\n",
       "    <tr>\n",
       "      <th>...</th>\n",
       "      <td>...</td>\n",
       "      <td>...</td>\n",
       "      <td>...</td>\n",
       "      <td>...</td>\n",
       "      <td>...</td>\n",
       "      <td>...</td>\n",
       "      <td>...</td>\n",
       "      <td>...</td>\n",
       "      <td>...</td>\n",
       "      <td>...</td>\n",
       "      <td>...</td>\n",
       "      <td>...</td>\n",
       "      <td>...</td>\n",
       "      <td>...</td>\n",
       "      <td>...</td>\n",
       "      <td>...</td>\n",
       "      <td>...</td>\n",
       "      <td>...</td>\n",
       "      <td>...</td>\n",
       "      <td>...</td>\n",
       "    </tr>\n",
       "    <tr>\n",
       "      <th>2390270</th>\n",
       "      <td>58663</td>\n",
       "      <td>5190</td>\n",
       "      <td>6</td>\n",
       "      <td>1064</td>\n",
       "      <td>2364</td>\n",
       "      <td>12</td>\n",
       "      <td>14</td>\n",
       "      <td>0</td>\n",
       "      <td>8512000</td>\n",
       "      <td>18912000</td>\n",
       "      <td>0</td>\n",
       "      <td>131.85</td>\n",
       "      <td>59</td>\n",
       "      <td>166</td>\n",
       "      <td>0</td>\n",
       "      <td>4</td>\n",
       "      <td>149</td>\n",
       "      <td>171</td>\n",
       "      <td>126</td>\n",
       "      <td>1</td>\n",
       "    </tr>\n",
       "    <tr>\n",
       "      <th>2390271</th>\n",
       "      <td>60977</td>\n",
       "      <td>53</td>\n",
       "      <td>17</td>\n",
       "      <td>146</td>\n",
       "      <td>178</td>\n",
       "      <td>2</td>\n",
       "      <td>2</td>\n",
       "      <td>0</td>\n",
       "      <td>1168000</td>\n",
       "      <td>1424000</td>\n",
       "      <td>0</td>\n",
       "      <td>81.00</td>\n",
       "      <td>59</td>\n",
       "      <td>166</td>\n",
       "      <td>0</td>\n",
       "      <td>6</td>\n",
       "      <td>149</td>\n",
       "      <td>171</td>\n",
       "      <td>126</td>\n",
       "      <td>4</td>\n",
       "    </tr>\n",
       "    <tr>\n",
       "      <th>2390272</th>\n",
       "      <td>54553</td>\n",
       "      <td>80</td>\n",
       "      <td>6</td>\n",
       "      <td>994</td>\n",
       "      <td>8896</td>\n",
       "      <td>10</td>\n",
       "      <td>10</td>\n",
       "      <td>0</td>\n",
       "      <td>7952000</td>\n",
       "      <td>71168000</td>\n",
       "      <td>0</td>\n",
       "      <td>494.50</td>\n",
       "      <td>59</td>\n",
       "      <td>166</td>\n",
       "      <td>0</td>\n",
       "      <td>6</td>\n",
       "      <td>149</td>\n",
       "      <td>171</td>\n",
       "      <td>126</td>\n",
       "      <td>9</td>\n",
       "    </tr>\n",
       "    <tr>\n",
       "      <th>2390273</th>\n",
       "      <td>55026</td>\n",
       "      <td>8248</td>\n",
       "      <td>6</td>\n",
       "      <td>4014</td>\n",
       "      <td>60268</td>\n",
       "      <td>68</td>\n",
       "      <td>70</td>\n",
       "      <td>0</td>\n",
       "      <td>32112000</td>\n",
       "      <td>482144000</td>\n",
       "      <td>0</td>\n",
       "      <td>465.81</td>\n",
       "      <td>59</td>\n",
       "      <td>166</td>\n",
       "      <td>0</td>\n",
       "      <td>6</td>\n",
       "      <td>149</td>\n",
       "      <td>171</td>\n",
       "      <td>126</td>\n",
       "      <td>5</td>\n",
       "    </tr>\n",
       "    <tr>\n",
       "      <th>2390274</th>\n",
       "      <td>28987</td>\n",
       "      <td>26948</td>\n",
       "      <td>6</td>\n",
       "      <td>2246</td>\n",
       "      <td>13496</td>\n",
       "      <td>34</td>\n",
       "      <td>32</td>\n",
       "      <td>0</td>\n",
       "      <td>17968000</td>\n",
       "      <td>107968000</td>\n",
       "      <td>0</td>\n",
       "      <td>238.52</td>\n",
       "      <td>59</td>\n",
       "      <td>166</td>\n",
       "      <td>0</td>\n",
       "      <td>6</td>\n",
       "      <td>149</td>\n",
       "      <td>171</td>\n",
       "      <td>126</td>\n",
       "      <td>6</td>\n",
       "    </tr>\n",
       "  </tbody>\n",
       "</table>\n",
       "<p>2301016 rows × 20 columns</p>\n",
       "</div>"
      ],
      "text/plain": [
       "         L4_SRC_PORT  L4_DST_PORT  PROTOCOL  IN_BYTES  OUT_BYTES  IN_PKTS  \\\n",
       "0               1305           21         6         9        193        1   \n",
       "1               1305           21         6       261        469        5   \n",
       "2               1305           21         6       481        750        9   \n",
       "3               1305           21         6       701       1054       13   \n",
       "4               1305           21         6      1031       1474       19   \n",
       "...              ...          ...       ...       ...        ...      ...   \n",
       "2390270        58663         5190         6      1064       2364       12   \n",
       "2390271        60977           53        17       146        178        2   \n",
       "2390272        54553           80         6       994       8896       10   \n",
       "2390273        55026         8248         6      4014      60268       68   \n",
       "2390274        28987        26948         6      2246      13496       34   \n",
       "\n",
       "         OUT_PKTS  FLOW_DURATION_MILLISECONDS  SRC_TO_DST_AVG_THROUGHPUT  \\\n",
       "0               3                           0                    3648000   \n",
       "1               7                           0                    4656000   \n",
       "2              11                           0                    5576000   \n",
       "3              15                           0                    6480000   \n",
       "4              21                           0                    7544000   \n",
       "...           ...                         ...                        ...   \n",
       "2390270        14                           0                    8512000   \n",
       "2390271         2                           0                    1168000   \n",
       "2390272        10                           0                    7952000   \n",
       "2390273        70                           0                   32112000   \n",
       "2390274        32                           0                   17968000   \n",
       "\n",
       "         DST_TO_SRC_AVG_THROUGHPUT  Label  AVE_PKTS_LTH  SRC_1  SRC_2  SRC_3  \\\n",
       "0                          3480000      0         50.50     59    166      0   \n",
       "1                          4584000      0         60.83     59    166      0   \n",
       "2                          5696000      0         61.55     59    166      0   \n",
       "3                          6864000      0         62.68     59    166      0   \n",
       "4                          8240000      0         62.62     59    166      0   \n",
       "...                            ...    ...           ...    ...    ...    ...   \n",
       "2390270                   18912000      0        131.85     59    166      0   \n",
       "2390271                    1424000      0         81.00     59    166      0   \n",
       "2390272                   71168000      0        494.50     59    166      0   \n",
       "2390273                  482144000      0        465.81     59    166      0   \n",
       "2390274                  107968000      0        238.52     59    166      0   \n",
       "\n",
       "         SRC_4  DST_1  DST_2  DST_3  DST_4  \n",
       "0            5    149    171    126      8  \n",
       "1            5    149    171    126      8  \n",
       "2            5    149    171    126      8  \n",
       "3            5    149    171    126      8  \n",
       "4            5    149    171    126      8  \n",
       "...        ...    ...    ...    ...    ...  \n",
       "2390270      4    149    171    126      1  \n",
       "2390271      6    149    171    126      4  \n",
       "2390272      6    149    171    126      9  \n",
       "2390273      6    149    171    126      5  \n",
       "2390274      6    149    171    126      6  \n",
       "\n",
       "[2301016 rows x 20 columns]"
      ]
     },
     "execution_count": 18,
     "metadata": {},
     "output_type": "execute_result"
    }
   ],
   "source": [
    "# Remove several features\n",
    "remove_columns = ['IPV4_SRC_ADDR','IPV4_DST_ADDR']\n",
    "\n",
    "data_clean = filtered_data_2_copy.drop(columns = remove_columns)\n",
    "\n",
    "data_clean"
   ]
  },
  {
   "cell_type": "code",
   "execution_count": 19,
   "id": "cbb272a3-8d61-4056-b20a-bfe5e1a06336",
   "metadata": {},
   "outputs": [
    {
     "name": "stdout",
     "output_type": "stream",
     "text": [
      "<class 'pandas.core.frame.DataFrame'>\n",
      "Index: 2301016 entries, 0 to 2390274\n",
      "Data columns (total 20 columns):\n",
      " #   Column                      Dtype  \n",
      "---  ------                      -----  \n",
      " 0   L4_SRC_PORT                 int64  \n",
      " 1   L4_DST_PORT                 int64  \n",
      " 2   PROTOCOL                    int64  \n",
      " 3   IN_BYTES                    int64  \n",
      " 4   OUT_BYTES                   int64  \n",
      " 5   IN_PKTS                     int64  \n",
      " 6   OUT_PKTS                    int64  \n",
      " 7   FLOW_DURATION_MILLISECONDS  int64  \n",
      " 8   SRC_TO_DST_AVG_THROUGHPUT   int64  \n",
      " 9   DST_TO_SRC_AVG_THROUGHPUT   int64  \n",
      " 10  Label                       int64  \n",
      " 11  AVE_PKTS_LTH                float64\n",
      " 12  SRC_1                       int64  \n",
      " 13  SRC_2                       int64  \n",
      " 14  SRC_3                       int64  \n",
      " 15  SRC_4                       int64  \n",
      " 16  DST_1                       int64  \n",
      " 17  DST_2                       int64  \n",
      " 18  DST_3                       int64  \n",
      " 19  DST_4                       int64  \n",
      "dtypes: float64(1), int64(19)\n",
      "memory usage: 368.7 MB\n"
     ]
    }
   ],
   "source": [
    "data_clean.info()"
   ]
  },
  {
   "cell_type": "markdown",
   "id": "3c161ff5-243e-495c-9886-48268ba62f39",
   "metadata": {
    "jp-MarkdownHeadingCollapsed": true
   },
   "source": [
    "# Hyper-parameters"
   ]
  },
  {
   "cell_type": "markdown",
   "id": "f59ddfbb-6dcb-4ed1-b5d0-ed94ad6606e5",
   "metadata": {},
   "source": [
    "Description for hyperparameter LSTM"
   ]
  },
  {
   "cell_type": "code",
   "execution_count": 22,
   "id": "0833511b-a414-4026-abc5-b7998057470d",
   "metadata": {},
   "outputs": [],
   "source": [
    "# Define the size of the input layer (number of features in your CSV data)\n",
    "input_size = 19  # Replace with the actual number of features\n",
    "\n",
    "# Define the number of output classes for classification\n",
    "num_classes = 2  # Replace with the number of classes in your dataset\n",
    "\n",
    "# Define the batch size for training\n",
    "batch_size = 64  # Adjust this based on your dataset size and memory constraints\n",
    "\n",
    "# Define the number of epochs for training\n",
    "num_epochs = 5  # Increase this if needed for better convergence\n",
    "\n",
    "# Define the learning rate for the optimizer\n",
    "learning_rate = 0.1  # Experiment with different values for optimal performance\n"
   ]
  },
  {
   "cell_type": "markdown",
   "id": "968ffb52-d459-4842-88c8-180b52567310",
   "metadata": {
    "jp-MarkdownHeadingCollapsed": true
   },
   "source": [
    "# Load Dataset"
   ]
  },
  {
   "cell_type": "code",
   "execution_count": 24,
   "id": "48595ce8-cbb5-44dc-a79f-b5351f8c682c",
   "metadata": {},
   "outputs": [
    {
     "data": {
      "text/plain": [
       "array([[1.3050e+03, 2.1000e+01, 6.0000e+00, ..., 1.7100e+02, 1.2600e+02,\n",
       "        8.0000e+00],\n",
       "       [1.3050e+03, 2.1000e+01, 6.0000e+00, ..., 1.7100e+02, 1.2600e+02,\n",
       "        8.0000e+00],\n",
       "       [1.3050e+03, 2.1000e+01, 6.0000e+00, ..., 1.7100e+02, 1.2600e+02,\n",
       "        8.0000e+00],\n",
       "       ...,\n",
       "       [5.4553e+04, 8.0000e+01, 6.0000e+00, ..., 1.7100e+02, 1.2600e+02,\n",
       "        9.0000e+00],\n",
       "       [5.5026e+04, 8.2480e+03, 6.0000e+00, ..., 1.7100e+02, 1.2600e+02,\n",
       "        5.0000e+00],\n",
       "       [2.8987e+04, 2.6948e+04, 6.0000e+00, ..., 1.7100e+02, 1.2600e+02,\n",
       "        6.0000e+00]])"
      ]
     },
     "execution_count": 24,
     "metadata": {},
     "output_type": "execute_result"
    }
   ],
   "source": [
    "# Extract features and labels\n",
    "# Use the to_numpy() to convert data into Numpy array so it can be transform into tensor\n",
    "X = data_clean.drop(columns=['Label']).to_numpy()  # Drop the target column\n",
    "y = data_clean['Label'].to_numpy()\n",
    "X"
   ]
  },
  {
   "cell_type": "markdown",
   "id": "b026c782-3e80-466b-92cb-93a91f99d0f9",
   "metadata": {},
   "source": [
    "**Split the dataset into:**\n",
    "- Training set (X_train, y_train): 70%.\n",
    "- Validation set (X_val, y_val): 15%.\n",
    "- Test set (X_test, y_test): 15%.\n",
    "- stratify=y ensures class distributions are preserved across splits."
   ]
  },
  {
   "cell_type": "code",
   "execution_count": 26,
   "id": "fb0ef963-37ac-45b7-8803-1b5a22222ec7",
   "metadata": {},
   "outputs": [],
   "source": [
    "# Split dataset\n",
    "X_train, X_temp, y_train, y_temp = train_test_split(X, y, test_size=0.3, random_state=42, stratify=y)\n",
    "X_val, X_test, y_val, y_test = train_test_split(X_temp, y_temp, test_size=0.5, random_state=42, stratify=y_temp)"
   ]
  },
  {
   "cell_type": "code",
   "execution_count": 27,
   "id": "7a0e1aed-e922-4e3f-8ae4-950c03d92cd8",
   "metadata": {},
   "outputs": [
    {
     "name": "stdout",
     "output_type": "stream",
     "text": [
      "X_train shape: (1610711, 19)\n",
      "y_train shape: (1610711,)\n"
     ]
    }
   ],
   "source": [
    "print(\"X_train shape:\", X_train.shape)\n",
    "print(\"y_train shape:\", y_train.shape)"
   ]
  },
  {
   "cell_type": "code",
   "execution_count": 28,
   "id": "8a120313-f987-4cf2-8219-8dbd088c2154",
   "metadata": {},
   "outputs": [],
   "source": [
    "# Convert to PyTorch tensors\n",
    "X_train_tensor = torch.tensor(X_train, dtype=torch.float32)\n",
    "y_train_tensor = torch.tensor(y_train, dtype=torch.long)\n",
    "X_val_tensor = torch.tensor(X_val, dtype=torch.float32)\n",
    "y_val_tensor = torch.tensor(y_val, dtype=torch.long)\n",
    "X_test_tensor = torch.tensor(X_test, dtype=torch.float32)\n",
    "y_test_tensor = torch.tensor(y_test, dtype=torch.long)"
   ]
  },
  {
   "cell_type": "markdown",
   "id": "bfeacb9c-d5cc-4f3a-aefc-79d1e84a6291",
   "metadata": {},
   "source": [
    "- TensorDataset wraps tensors into a dataset.\n",
    "- DataLoader batches the data and optionally shuffles it."
   ]
  },
  {
   "cell_type": "code",
   "execution_count": 30,
   "id": "d9f37148-99c7-48f0-a78e-6548a8e3c625",
   "metadata": {},
   "outputs": [],
   "source": [
    "# Create DataLoader\n",
    "train_dataset = TensorDataset(X_train_tensor, y_train_tensor)\n",
    "val_dataset = TensorDataset(X_val_tensor, y_val_tensor)\n",
    "test_dataset = TensorDataset(X_test_tensor, y_test_tensor)\n",
    "\n",
    "train_loader = DataLoader(train_dataset, batch_size, shuffle=True)\n",
    "val_loader = DataLoader(val_dataset, batch_size, shuffle=False)\n",
    "test_loader = DataLoader(test_dataset, batch_size, shuffle=False)"
   ]
  },
  {
   "cell_type": "markdown",
   "id": "5b8d1a4f-febc-498b-b8f3-159aa58beac3",
   "metadata": {
    "jp-MarkdownHeadingCollapsed": true
   },
   "source": [
    "# Model"
   ]
  },
  {
   "cell_type": "markdown",
   "id": "3c528662-952f-4ab0-bb96-d112746d15f3",
   "metadata": {},
   "source": [
    "**Multi-Layer Perceptron (MLP)**\n",
    "- Fully connected layers and ReLU activation.\n",
    "- Dropout is used to prevent overfitting."
   ]
  },
  {
   "cell_type": "code",
   "execution_count": 33,
   "id": "385b107a-eaa7-4c79-afac-78abbb565828",
   "metadata": {},
   "outputs": [],
   "source": [
    "# Define the MLP model\n",
    "class MLP(nn.Module):\n",
    "    def __init__(self, input_dim, num_classes):\n",
    "        super(MLP, self).__init__()\n",
    "        self.fc1 = nn.Linear(input_dim, 128)    # Input Layer\n",
    "        self.fc2 = nn.Linear(128, 64)           # First Hidden Layer\n",
    "        self.fc3 = nn.Linear(64, num_classes)   # Output Layer\n",
    "        self.relu = nn.ReLU()                   # Activation function\n",
    "        self.dropout = nn.Dropout(0.3)          # Dropout for regularization\n",
    "\n",
    "    def forward(self, x):\n",
    "        x = self.relu(self.fc1(x))\n",
    "        x = self.dropout(x)\n",
    "        x = self.relu(self.fc2(x))\n",
    "        x = self.dropout(x)\n",
    "        x = self.fc3(x)\n",
    "        return x"
   ]
  },
  {
   "cell_type": "markdown",
   "id": "5524f935-41db-4f7a-b4ab-61a23c6cbfac",
   "metadata": {},
   "source": [
    "- input_dim: Number of input features.\n",
    "- num_classes: Number of unique classes in the dataset."
   ]
  },
  {
   "cell_type": "code",
   "execution_count": 35,
   "id": "627f5ffa-216e-4280-9f54-b6a3be053a4e",
   "metadata": {},
   "outputs": [],
   "source": [
    "model = MLP(input_dim=input_size, num_classes=num_classes).to(device)"
   ]
  },
  {
   "cell_type": "markdown",
   "id": "12c7b707-2b95-4659-bec8-fd3078dba2fd",
   "metadata": {
    "jp-MarkdownHeadingCollapsed": true
   },
   "source": [
    "# Loss Function and optimizer"
   ]
  },
  {
   "cell_type": "markdown",
   "id": "71b1b08f-3101-48ae-bd65-8dceec874650",
   "metadata": {},
   "source": [
    "- CrossEntropyLoss: Suitable for classification tasks.\n",
    "- Adam: Optimization algorithm."
   ]
  },
  {
   "cell_type": "code",
   "execution_count": 38,
   "id": "ca9c5792-0ddd-4963-905c-565dc91ae615",
   "metadata": {},
   "outputs": [],
   "source": [
    "criterion = nn.CrossEntropyLoss()\n",
    "optimizer = optim.Adam(model.parameters(), lr=learning_rate)"
   ]
  },
  {
   "cell_type": "markdown",
   "id": "ade51149-ad63-432a-bf61-950c88a64c4f",
   "metadata": {
    "jp-MarkdownHeadingCollapsed": true
   },
   "source": [
    "# Training"
   ]
  },
  {
   "cell_type": "markdown",
   "id": "cc31bace-c68f-40c2-9a95-bc39c4101600",
   "metadata": {},
   "source": [
    "- Training: Backpropagation and parameter updates using the training dataset.\n",
    "- Validation: Evaluate on the validation set after each epoch to monitor progress."
   ]
  },
  {
   "cell_type": "code",
   "execution_count": 49,
   "id": "ddf13612-f9fe-4f15-91e9-b03848ed611b",
   "metadata": {},
   "outputs": [],
   "source": [
    "# Training loop\n",
    "def train(model, train_loader, val_loader, criterion, optimizer, epochs):\n",
    "    model.train()  # Set model to training mode\n",
    "    history = {\"train_loss\": [], \"val_loss\": [], \"val_rmse\": [], \"loss_percentage\": []}\n",
    "    \n",
    "    for epoch in range(epochs):\n",
    "        train_loss = 0\n",
    "        for X_batch, y_batch in train_loader:\n",
    "            X_batch, y_batch = X_batch.to(device), y_batch.to(device)\n",
    "\n",
    "            optimizer.zero_grad()\n",
    "            outputs = model(X_batch)\n",
    "            loss = criterion(outputs, y_batch)\n",
    "            loss.backward()\n",
    "            optimizer.step()\n",
    "            train_loss += loss.item()\n",
    "\n",
    "        # Validation\n",
    "        model.eval()\n",
    "        val_loss = 0\n",
    "        correct = 0\n",
    "        total = 0\n",
    "        squared_error = 0\n",
    "        with torch.no_grad():\n",
    "            for X_batch, y_batch in val_loader:\n",
    "                X_batch, y_batch = X_batch.to(device), y_batch.to(device)\n",
    "                outputs = model(X_batch)\n",
    "                loss = criterion(outputs, y_batch)\n",
    "                val_loss += loss.item()\n",
    "\n",
    "                _, predicted = torch.max(outputs, 1)\n",
    "                total += y_batch.size(0)\n",
    "                correct += (predicted == y_batch).sum().item()\n",
    "                \n",
    "                # Calculate squared error for RMSE\n",
    "                squared_error += ((predicted - y_batch) ** 2).sum().item()\n",
    "\n",
    "        val_accuracy = correct / total\n",
    "        val_rmse = (squared_error / total) ** 0.5  # Root Mean Square Error\n",
    "        \n",
    "        # Loss percentage: percentage change from previous epoch\n",
    "        loss_percentage = (\n",
    "            ((history[\"val_loss\"][-1] - val_loss) / history[\"val_loss\"][-1]) * 100\n",
    "            if history[\"val_loss\"]\n",
    "            else 0\n",
    "        )\n",
    "\n",
    "        # Log metrics\n",
    "        history[\"train_loss\"].append(train_loss)\n",
    "        history[\"val_loss\"].append(val_loss)\n",
    "        history[\"val_rmse\"].append(val_rmse)\n",
    "        history[\"loss_percentage\"].append(loss_percentage)\n",
    "\n",
    "        print(\n",
    "            f\"Epoch {epoch + 1}/{epochs}, Train Loss: {train_loss:.4f}, Val Loss: {val_loss:.4f}, \"\n",
    "            f\"Val RMSE: {val_rmse:.4f}, Loss Percentage: {loss_percentage:.2f}%, Val Accuracy: {val_accuracy:.4f}\"\n",
    "        )\n",
    "        model.train()\n",
    "    \n",
    "    return history "
   ]
  },
  {
   "cell_type": "code",
   "execution_count": 51,
   "id": "5d7f74da-baa4-42f6-94e5-e3fa0a577920",
   "metadata": {},
   "outputs": [
    {
     "name": "stdout",
     "output_type": "stream",
     "text": [
      "Epoch 1/5, Train Loss: 450.2393, Val Loss: 95.1777, Val RMSE: 0.0502, Loss Percentage: 0.00%, Val Accuracy: 0.9975\n",
      "Epoch 2/5, Train Loss: 450.7910, Val Loss: 97.7337, Val RMSE: 0.0502, Loss Percentage: -2.69%, Val Accuracy: 0.9975\n",
      "Epoch 3/5, Train Loss: 450.8173, Val Loss: 95.0902, Val RMSE: 0.0502, Loss Percentage: 2.70%, Val Accuracy: 0.9975\n",
      "Epoch 4/5, Train Loss: 450.3905, Val Loss: 95.3225, Val RMSE: 0.0502, Loss Percentage: -0.24%, Val Accuracy: 0.9975\n",
      "Epoch 5/5, Train Loss: 450.8152, Val Loss: 95.1297, Val RMSE: 0.0502, Loss Percentage: 0.20%, Val Accuracy: 0.9975\n"
     ]
    }
   ],
   "source": [
    "# Train the model\n",
    "history = train(model, train_loader, val_loader, criterion, optimizer, epochs=num_epochs)"
   ]
  },
  {
   "cell_type": "markdown",
   "id": "c30f647e-ebc6-4682-8a8b-8554e5a8f1d8",
   "metadata": {
    "jp-MarkdownHeadingCollapsed": true
   },
   "source": [
    "# Testing"
   ]
  },
  {
   "cell_type": "code",
   "execution_count": 53,
   "id": "65127f10-9812-4966-88f4-6f1b32480165",
   "metadata": {},
   "outputs": [
    {
     "name": "stdout",
     "output_type": "stream",
     "text": [
      "Test Accuracy: 99.75%\n"
     ]
    }
   ],
   "source": [
    "# Evaluate on the test set\n",
    "model.eval()\n",
    "correct = 0\n",
    "total = 0\n",
    "with torch.no_grad():\n",
    "    for X_batch, y_batch in test_loader:\n",
    "        X_batch, y_batch = X_batch.to(device), y_batch.to(device)\n",
    "        outputs = model(X_batch)\n",
    "        _, predicted = torch.max(outputs, 1)\n",
    "        total += y_batch.size(0)\n",
    "        correct += (predicted == y_batch).sum().item()\n",
    "\n",
    "test_accuracy = correct / total\n",
    "print(f\"Test Accuracy: {test_accuracy* 100:.2f}%\")"
   ]
  },
  {
   "cell_type": "markdown",
   "id": "f4231768-7f78-49cf-a638-4116213294e3",
   "metadata": {
    "jp-MarkdownHeadingCollapsed": true
   },
   "source": [
    "# Result\n",
    "**Performance Metrics: RMSE and Loss(%)**"
   ]
  },
  {
   "cell_type": "code",
   "execution_count": 55,
   "id": "217584b4-aea9-4f2c-bba6-5d66fe64754f",
   "metadata": {},
   "outputs": [
    {
     "data": {
      "image/png": "[encoded data removed]",
      "text/plain": [
       "<Figure size 1200x600 with 2 Axes>"
      ]
     },
     "metadata": {},
     "output_type": "display_data"
    }
   ],
   "source": [
    "# Plot metrics\n",
    "plt.figure(figsize=(12, 6))\n",
    "\n",
    "# Training and Validation Loss\n",
    "plt.subplot(1, 2, 1)\n",
    "plt.plot(history[\"train_loss\"], label=\"Train Loss\")\n",
    "plt.plot(history[\"val_loss\"], label=\"Validation Loss\")\n",
    "plt.xlabel(\"Epochs\")\n",
    "plt.ylabel(\"Loss\")\n",
    "plt.title(\"Loss Over Epochs\")\n",
    "plt.legend()\n",
    "\n",
    "# RMSE and Loss Percentage\n",
    "plt.subplot(1, 2, 2)\n",
    "plt.plot(history[\"val_rmse\"], label=\"Validation RMSE\")\n",
    "plt.plot(history[\"loss_percentage\"], label=\"Loss Percentage Change\")\n",
    "plt.xlabel(\"Epochs\")\n",
    "plt.ylabel(\"Metrics\")\n",
    "plt.title(\"RMSE and Loss Percentage Over Epochs\")\n",
    "plt.legend()\n",
    "\n",
    "plt.tight_layout()\n",
    "plt.show()"
   ]
  },
  {
   "cell_type": "code",
   "execution_count": 73,
   "id": "a866b6ee-f8de-4a70-89e3-1cbce080b805",
   "metadata": {},
   "outputs": [
    {
     "data": {
      "text/plain": [
       "MLP(\n",
       "  (fc1): Linear(in_features=19, out_features=128, bias=True)\n",
       "  (fc2): Linear(in_features=128, out_features=64, bias=True)\n",
       "  (fc3): Linear(in_features=64, out_features=2, bias=True)\n",
       "  (relu): ReLU()\n",
       "  (dropout): Dropout(p=0.3, inplace=False)\n",
       ")"
      ]
     },
     "execution_count": 73,
     "metadata": {},
     "output_type": "execute_result"
    }
   ],
   "source": [
    "# Save the model\n",
    "torch.save(model.state_dict(), r'.\\Model\\mlp_model.pth')\n",
    "\n",
    "# Load the model (for inference)\n",
    "loaded_model = MLP(input_dim=input_size, num_classes=num_classes)\n",
    "# Use weights_only=True to avoid FutureWarning\n",
    "loaded_model.load_state_dict(torch.load(r'.\\Model\\mlp_model.pth', weights_only=True))\n",
    "loaded_model.to(device)\n",
    "loaded_model.eval()"
   ]
  },
  {
   "cell_type": "markdown",
   "id": "bbc1adb0-6ea9-41a2-bdc7-63755f9078a2",
   "metadata": {
    "jp-MarkdownHeadingCollapsed": true
   },
   "source": [
    "# Serialization"
   ]
  },
  {
   "cell_type": "code",
   "execution_count": 131,
   "id": "d49e1559-b418-433c-8cf7-e253ca65d7de",
   "metadata": {},
   "outputs": [],
   "source": [
    "import torch\n",
    "import time\n",
    "import pickle\n",
    "import joblib\n",
    "import os\n",
    "import onnx\n",
    "import onnxruntime as ort\n",
    "from torch.utils.data import DataLoader"
   ]
  },
  {
   "cell_type": "code",
   "execution_count": 133,
   "id": "1940b822-ea58-4593-ae72-6874a1015c2d",
   "metadata": {},
   "outputs": [],
   "source": [
    "# Prepare a single batch of test data\n",
    "test_loader = DataLoader(test_dataset, batch_size=64, shuffle=False)\n",
    "X_test_batch, _ = next(iter(test_loader))\n",
    "X_test_batch = X_test_batch.to(device)"
   ]
  },
  {
   "cell_type": "code",
   "execution_count": 135,
   "id": "cb642a41-875b-4f99-9fb5-e63bb68b5356",
   "metadata": {},
   "outputs": [],
   "source": [
    "# Define paths for saving files\n",
    "pickle_path = r'.\\Model\\mlp_model.pkl'\n",
    "joblib_path = r'.\\Model\\mlp_model.joblib'\n",
    "onnx_path = r'.\\Model\\mlp_model.onnx'\n",
    "torch_path = r'.\\Model\\mlp_model.pt'"
   ]
  },
  {
   "cell_type": "code",
   "execution_count": 137,
   "id": "3cd8be43-d44f-4157-bf0a-9e167fd0f57d",
   "metadata": {},
   "outputs": [],
   "source": [
    "# Measure serialization for different formats\n",
    "results = {}"
   ]
  },
  {
   "cell_type": "code",
   "execution_count": 139,
   "id": "fc6bd866-5007-4cfd-ae9c-f59989eff818",
   "metadata": {},
   "outputs": [],
   "source": [
    "# Save and load using Pickle\n",
    "start = time.time()\n",
    "with open(pickle_path, \"wb\") as f:\n",
    "    pickle.dump(model, f)\n",
    "save_time_pickle = time.time() - start\n",
    "\n",
    "start = time.time()\n",
    "with open(pickle_path, \"rb\") as f:\n",
    "    model_pickle = pickle.load(f)\n",
    "load_time_pickle = time.time() - start\n",
    "\n",
    "pickle_file_size = os.path.getsize(pickle_path)"
   ]
  },
  {
   "cell_type": "code",
   "execution_count": 141,
   "id": "566eb089-062a-4269-8997-096f9a94e324",
   "metadata": {},
   "outputs": [],
   "source": [
    "# Save and load using Joblib\n",
    "start = time.time()\n",
    "joblib.dump(model, joblib_path)\n",
    "save_time_joblib = time.time() - start\n",
    "\n",
    "start = time.time()\n",
    "model_joblib = joblib.load(joblib_path)\n",
    "load_time_joblib = time.time() - start\n",
    "\n",
    "joblib_file_size = os.path.getsize(joblib_path)"
   ]
  },
  {
   "cell_type": "code",
   "execution_count": 143,
   "id": "b74fa963-15ee-4247-9aeb-253bad0422c6",
   "metadata": {},
   "outputs": [],
   "source": [
    "# Save and load using ONNX\n",
    "dummy_input = torch.randn(batch_size, X_test_batch.shape[1]).to(device)\n",
    "\n",
    "start = time.time()\n",
    "torch.onnx.export(\n",
    "    model,\n",
    "    dummy_input,  # Input tensor with fixed batch size\n",
    "    onnx_path,  # Path to save the ONNX model\n",
    "    input_names=[\"input\"],\n",
    "    output_names=[\"output\"],\n",
    "    export_params=True,\n",
    "    opset_version=11  # Use a supported ONNX opset version\n",
    ")\n",
    "save_time_onnx = time.time() - start\n",
    "\n",
    "onnx_file_size = os.path.getsize(onnx_path)\n",
    "\n",
    "start = time.time()\n",
    "session = ort.InferenceSession(onnx_path)\n",
    "load_time_onnx = time.time() - start"
   ]
  },
  {
   "cell_type": "code",
   "execution_count": 145,
   "id": "c0a328cf-2c5d-4c72-be3e-b9851b4599c2",
   "metadata": {},
   "outputs": [],
   "source": [
    "# Save and load using PyTorch\n",
    "start = time.time()\n",
    "torch.save(model.state_dict(), torch_path)\n",
    "save_time_torch = time.time() - start\n",
    "\n",
    "start = time.time()\n",
    "model_torch = MLP(input_dim=input_size, num_classes=num_classes)\n",
    "model_torch.load_state_dict(torch.load(torch_path, weights_only=True))\n",
    "model_torch.to(device)\n",
    "load_time_torch = time.time() - start\n",
    "\n",
    "torch_file_size = os.path.getsize(torch_path)"
   ]
  },
  {
   "cell_type": "code",
   "execution_count": 147,
   "id": "89ad67f2-3b59-4a15-8843-b8044b69be0e",
   "metadata": {},
   "outputs": [],
   "source": [
    "# Measure inference time\n",
    "def measure_inference_time(model, X):\n",
    "    model.eval()\n",
    "    with torch.no_grad():\n",
    "        start = time.time()\n",
    "        for _ in range(100):  # Run inference 100 times to get average time\n",
    "            model(X)\n",
    "        end = time.time()\n",
    "    return (end - start) / 100"
   ]
  },
  {
   "cell_type": "code",
   "execution_count": 149,
   "id": "88324e40-b65f-4042-b72f-7e8680b86446",
   "metadata": {},
   "outputs": [],
   "source": [
    "# Inference time for Pickle and Joblib\n",
    "inference_time_pickle = measure_inference_time(model_pickle, X_test_batch)\n",
    "inference_time_joblib = measure_inference_time(model_joblib, X_test_batch)"
   ]
  },
  {
   "cell_type": "code",
   "execution_count": 151,
   "id": "46e340a9-c0b9-4408-a058-6bf44be3a874",
   "metadata": {},
   "outputs": [],
   "source": [
    "def onnx_inference_fixed(session, X):\n",
    "    assert X.size(0) == 64, \"Input batch size must match the fixed batch size (64)\"\n",
    "    ort_inputs = {session.get_inputs()[0].name: X.cpu().numpy()}\n",
    "    start = time.time()\n",
    "    for _ in range(100):  # Run inference 100 times\n",
    "        session.run(None, ort_inputs)\n",
    "    end = time.time()\n",
    "    return (end - start) / 100"
   ]
  },
  {
   "cell_type": "code",
   "execution_count": 153,
   "id": "91537b26-3bec-44a4-970e-f9a236829c00",
   "metadata": {},
   "outputs": [],
   "source": [
    "inference_time_onnx = onnx_inference_fixed(session, X_test_batch)"
   ]
  },
  {
   "cell_type": "code",
   "execution_count": 155,
   "id": "5a671e99-af73-428d-ac2c-3bea2270db2a",
   "metadata": {},
   "outputs": [],
   "source": [
    "# Inference time for PyTorch\n",
    "inference_time_torch = measure_inference_time(model_torch, X_test_batch)"
   ]
  },
  {
   "cell_type": "code",
   "execution_count": 157,
   "id": "71504769-cf22-4efb-8a2c-5c2dda61dc5b",
   "metadata": {},
   "outputs": [
    {
     "name": "stdout",
     "output_type": "stream",
     "text": [
      "--- Pickle ---\n",
      "Save Time: 0.002641 seconds\n",
      "Load Time: 0.010413 seconds\n",
      "File Size: 45.94 KB\n",
      "Inference Time: 0.000256 seconds\n",
      "\n",
      "--- Joblib ---\n",
      "Save Time: 0.005504 seconds\n",
      "Load Time: 0.012559 seconds\n",
      "File Size: 45.94 KB\n",
      "Inference Time: 0.000264 seconds\n",
      "\n",
      "--- ONNX ---\n",
      "Save Time: 0.015293 seconds\n",
      "Load Time: 0.012861 seconds\n",
      "File Size: 43.46 KB\n",
      "Inference Time: 0.000036 seconds\n",
      "\n",
      "--- PyTorch ---\n",
      "Save Time: 0.002491 seconds\n",
      "Load Time: 0.016146 seconds\n",
      "File Size: 45.40 KB\n",
      "Inference Time: 0.000250 seconds\n",
      "\n"
     ]
    }
   ],
   "source": [
    "# Results summary\n",
    "results[\"Pickle\"] = {\"save_time\": save_time_pickle, \"load_time\": load_time_pickle, \"file_size\": pickle_file_size, \"inference_time\": inference_time_pickle}\n",
    "results[\"Joblib\"] = {\"save_time\": save_time_joblib, \"load_time\": load_time_joblib, \"file_size\": joblib_file_size, \"inference_time\": inference_time_joblib}\n",
    "results[\"ONNX\"] = {\"save_time\": save_time_onnx, \"load_time\": load_time_onnx, \"file_size\": onnx_file_size, \"inference_time\": inference_time_onnx}\n",
    "results[\"PyTorch\"] = {\"save_time\": save_time_torch, \"load_time\": load_time_torch, \"file_size\": torch_file_size, \"inference_time\": inference_time_torch}\n",
    "\n",
    "# Print results\n",
    "for method, metrics in results.items():\n",
    "    print(f\"--- {method} ---\")\n",
    "    print(f\"Save Time: {metrics['save_time']:.6f} seconds\")\n",
    "    print(f\"Load Time: {metrics['load_time']:.6f} seconds\")\n",
    "    print(f\"File Size: {metrics['file_size'] / 1024:.2f} KB\")\n",
    "    print(f\"Inference Time: {metrics['inference_time']:.6f} seconds\")\n",
    "    print()"
   ]
  }
 ],
 "metadata": {
  "kernelspec": {
   "display_name": "PersonalProjects",
   "language": "python",
   "name": "personalprojects"
  },
  "language_info": {
   "codemirror_mode": {
    "name": "ipython",
    "version": 3
   },
   "file_extension": ".py",
   "mimetype": "text/x-python",
   "name": "python",
   "nbconvert_exporter": "python",
   "pygments_lexer": "ipython3",
   "version": "3.12.4"
  }
 },
 "nbformat": 4,
 "nbformat_minor": 5
}
